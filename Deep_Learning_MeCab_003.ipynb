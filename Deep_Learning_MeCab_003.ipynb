{
 "cells": [
  {
   "cell_type": "code",
   "execution_count": 1,
   "metadata": {},
   "outputs": [],
   "source": [
    "import MeCab\n",
    "from gensim.models import word2vec\n",
    "from gensim.models.wrappers import FastText\n",
    "# import logging"
   ]
  },
  {
   "cell_type": "markdown",
   "metadata": {},
   "source": [
    "辞書を定期的に更新しましょう\n",
    "$ ./bin/install-mecab-ipadic-neologd -n\n"
   ]
  },
  {
   "cell_type": "code",
   "execution_count": 2,
   "metadata": {},
   "outputs": [],
   "source": [
    "tagger = MeCab.Tagger('-F\\s%f[6] -U\\s%m -E\\\\n')\n",
    "\n",
    "fi = open('Data/Hitachi2016.txt', 'r')\n",
    "fo = open('Data/Hitachi2016_wakati.txt', 'w')\n",
    "\n",
    "line = fi.readline()\n",
    "while line:\n",
    "    result = tagger.parse(line)\n",
    "    fo.write(result[1:]) # skip first \\s\n",
    "    line = fi.readline()\n",
    "\n",
    "fi.close()\n",
    "fo.close()"
   ]
  },
  {
   "cell_type": "code",
   "execution_count": 3,
   "metadata": {},
   "outputs": [
    {
     "data": {
      "text/plain": [
       "' - 201 -\\n'"
      ]
     },
     "execution_count": 3,
     "metadata": {},
     "output_type": "execute_result"
    }
   ],
   "source": [
    "result"
   ]
  },
  {
   "cell_type": "markdown",
   "metadata": {},
   "source": [
    "MeCabの出力フォーマットは下記を参照\n",
    "\n",
    "https://taku910.github.io/mecab/mecab.html\n",
    "\n",
    "https://taku910.github.io/mecab/format.html"
   ]
  },
  {
   "cell_type": "code",
   "execution_count": 4,
   "metadata": {},
   "outputs": [],
   "source": [
    "wakachi_file_name = 'Data/Hitachi2016_wakati.txt'\n",
    "model_file_name = 'Data/Hitachi2016.model'\n",
    "fast_model_file_name = 'Data/first_Hitachi2016.model'"
   ]
  },
  {
   "cell_type": "markdown",
   "metadata": {},
   "source": [
    "分かち書きできたので、word2vec する。\n",
    "\n",
    "ベクトルの次元数は 100。skip-gram モデルを用い、階層的ソフトマックスで学習させる。ネガティブサンプリングはなし。"
   ]
  },
  {
   "cell_type": "code",
   "execution_count": 5,
   "metadata": {},
   "outputs": [],
   "source": [
    "#logging.basicConfig(format='%(asctime)s : %(levelname)s : %(message)s', level=logging.INFO)\n",
    "\n",
    "sentences = word2vec.LineSentence(wakachi_file_name)\n",
    "model = word2vec.Word2Vec(sentences,\n",
    "                          sg=1,\n",
    "                          size=100,\n",
    "                          min_count=1,\n",
    "                          window=10,\n",
    "                          hs=1,\n",
    "                          negative=0)\n",
    "model.save(model_file_name)"
   ]
  },
  {
   "cell_type": "markdown",
   "metadata": {},
   "source": [
    "とりあえず、指定した単語とコサイン類似度の高い単語をリストアップするスクリプトを描いて実行してみる。"
   ]
  },
  {
   "cell_type": "code",
   "execution_count": 6,
   "metadata": {},
   "outputs": [
    {
     "name": "stdout",
     "output_type": "stream",
     "text": [
      "誤謬 \t 0.9105330109596252\n",
      "虚偽 \t 0.7807862758636475\n",
      "立案 \t 0.7786458730697632\n",
      "去る \t 0.7774367332458496\n",
      "手続 \t 0.7703236937522888\n",
      "防止 \t 0.7646648287773132\n",
      "入手 \t 0.7625426054000854\n",
      "確実 \t 0.7557921409606934\n",
      "理由 \t 0.755773663520813\n",
      "流用 \t 0.7549103498458862\n"
     ]
    }
   ],
   "source": [
    "KeyWord = ['不正']\n",
    "\n",
    "model   = word2vec.Word2Vec.load(model_file_name)\n",
    "results = model.wv.most_similar(positive=KeyWord, topn=10)\n",
    "\n",
    "for result in results:\n",
    "    print(result[0], '\\t', result[1])"
   ]
  },
  {
   "cell_type": "code",
   "execution_count": null,
   "metadata": {},
   "outputs": [],
   "source": []
  }
 ],
 "metadata": {
  "kernelspec": {
   "display_name": "Python 3",
   "language": "python",
   "name": "python3"
  },
  "language_info": {
   "codemirror_mode": {
    "name": "ipython",
    "version": 3
   },
   "file_extension": ".py",
   "mimetype": "text/x-python",
   "name": "python",
   "nbconvert_exporter": "python",
   "pygments_lexer": "ipython3",
   "version": "3.5.4"
  }
 },
 "nbformat": 4,
 "nbformat_minor": 2
}
