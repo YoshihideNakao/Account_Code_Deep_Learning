{
 "cells": [
  {
   "cell_type": "markdown",
   "metadata": {},
   "source": [
    "科目名から科目タイプを推定するディープラーニングプログラムです。\n",
    "\n",
    "Googleが提供するTensorFlowとラッパーライブラリのKerasを使用しています。\n",
    "特徴は科目名をgensimで分散表現を学習した後に、その重みを初期値として設定した Keras の Embedding層を取得します。"
   ]
  },
  {
   "cell_type": "markdown",
   "metadata": {},
   "source": [
    "参考情報\n",
    "gensimを使ってKerasのEmbedding層を取得する（http://hironsan.hatenablog.com/entry/keras-gensim-integration）"
   ]
  },
  {
   "cell_type": "code",
   "execution_count": 1,
   "metadata": {},
   "outputs": [
    {
     "name": "stderr",
     "output_type": "stream",
     "text": [
      "Using TensorFlow backend.\n"
     ]
    }
   ],
   "source": [
    "# import sys\n",
    "import numpy as np\n",
    "import pandas as pd\n",
    "from sklearn.model_selection import train_test_split\n",
    "from gensim.models import word2vec\n",
    "from keras.callbacks import EarlyStopping\n",
    "from keras.models import Model\n",
    "from keras.preprocessing.text import Tokenizer\n",
    "from keras.preprocessing.sequence import pad_sequences\n",
    "from keras.utils.np_utils import to_categorical\n",
    "from keras.layers import Dense, Input, LSTM\n",
    "import MeCab\n",
    "\n",
    "import matplotlib.pyplot as plt\n",
    "%matplotlib inline"
   ]
  },
  {
   "cell_type": "code",
   "execution_count": 2,
   "metadata": {},
   "outputs": [],
   "source": [
    "# 勘定科目マスターの読み込み\n",
    "Account_master = pd.ExcelFile('Data/勘定コードマスタ.xlsx')\n",
    "df_account_master = Account_master.parse('勘定コードマスタ')"
   ]
  },
  {
   "cell_type": "code",
   "execution_count": 3,
   "metadata": {},
   "outputs": [
    {
     "data": {
      "text/html": [
       "<div>\n",
       "<style scoped>\n",
       "    .dataframe tbody tr th:only-of-type {\n",
       "        vertical-align: middle;\n",
       "    }\n",
       "\n",
       "    .dataframe tbody tr th {\n",
       "        vertical-align: top;\n",
       "    }\n",
       "\n",
       "    .dataframe thead th {\n",
       "        text-align: right;\n",
       "    }\n",
       "</style>\n",
       "<table border=\"1\" class=\"dataframe\">\n",
       "  <thead>\n",
       "    <tr style=\"text-align: right;\">\n",
       "      <th></th>\n",
       "      <th>勘定コード</th>\n",
       "      <th>科目名</th>\n",
       "      <th>勘定タイプ</th>\n",
       "      <th>勘定クラス</th>\n",
       "    </tr>\n",
       "  </thead>\n",
       "  <tbody>\n",
       "    <tr>\n",
       "      <th>0</th>\n",
       "      <td>1111000010</td>\n",
       "      <td>現金</td>\n",
       "      <td>資産</td>\n",
       "      <td>C_現預金</td>\n",
       "    </tr>\n",
       "    <tr>\n",
       "      <th>1</th>\n",
       "      <td>1111009010</td>\n",
       "      <td>他預貯金-未着資金</td>\n",
       "      <td>資産</td>\n",
       "      <td>C_現預金</td>\n",
       "    </tr>\n",
       "    <tr>\n",
       "      <th>2</th>\n",
       "      <td>1111009950</td>\n",
       "      <td>他預貯金-事業領域調整</td>\n",
       "      <td>資産</td>\n",
       "      <td>C_現預金</td>\n",
       "    </tr>\n",
       "    <tr>\n",
       "      <th>3</th>\n",
       "      <td>1111009970</td>\n",
       "      <td>他預貯金-会社間取引</td>\n",
       "      <td>資産</td>\n",
       "      <td>C_現預金</td>\n",
       "    </tr>\n",
       "    <tr>\n",
       "      <th>4</th>\n",
       "      <td>1111009990</td>\n",
       "      <td>他預貯金-他</td>\n",
       "      <td>資産</td>\n",
       "      <td>C_現預金</td>\n",
       "    </tr>\n",
       "  </tbody>\n",
       "</table>\n",
       "</div>"
      ],
      "text/plain": [
       "        勘定コード          科目名 勘定タイプ  勘定クラス\n",
       "0  1111000010           現金    資産  C_現預金\n",
       "1  1111009010    他預貯金-未着資金    資産  C_現預金\n",
       "2  1111009950  他預貯金-事業領域調整    資産  C_現預金\n",
       "3  1111009970   他預貯金-会社間取引    資産  C_現預金\n",
       "4  1111009990       他預貯金-他    資産  C_現預金"
      ]
     },
     "execution_count": 3,
     "metadata": {},
     "output_type": "execute_result"
    }
   ],
   "source": [
    "df_account_master.head()"
   ]
  },
  {
   "cell_type": "code",
   "execution_count": 4,
   "metadata": {},
   "outputs": [],
   "source": [
    "# 試算表（新規科目含む）の読み込み\n",
    "TB_file = pd.ExcelFile('Data/試算表.xlsx')\n",
    "df_TB_data = TB_file.parse('試算表')"
   ]
  },
  {
   "cell_type": "code",
   "execution_count": 5,
   "metadata": {
    "scrolled": true
   },
   "outputs": [
    {
     "data": {
      "text/html": [
       "<div>\n",
       "<style scoped>\n",
       "    .dataframe tbody tr th:only-of-type {\n",
       "        vertical-align: middle;\n",
       "    }\n",
       "\n",
       "    .dataframe tbody tr th {\n",
       "        vertical-align: top;\n",
       "    }\n",
       "\n",
       "    .dataframe thead th {\n",
       "        text-align: right;\n",
       "    }\n",
       "</style>\n",
       "<table border=\"1\" class=\"dataframe\">\n",
       "  <thead>\n",
       "    <tr style=\"text-align: right;\">\n",
       "      <th></th>\n",
       "      <th>勘定コード</th>\n",
       "      <th>科目名</th>\n",
       "      <th>勘定タイプ</th>\n",
       "      <th>勘定クラス</th>\n",
       "    </tr>\n",
       "  </thead>\n",
       "  <tbody>\n",
       "    <tr>\n",
       "      <th>0</th>\n",
       "      <td>1111000010</td>\n",
       "      <td>現金</td>\n",
       "      <td>資産</td>\n",
       "      <td>C_現預金</td>\n",
       "    </tr>\n",
       "    <tr>\n",
       "      <th>1</th>\n",
       "      <td>1111009010</td>\n",
       "      <td>他預貯金-未着資金</td>\n",
       "      <td>資産</td>\n",
       "      <td>C_現預金</td>\n",
       "    </tr>\n",
       "    <tr>\n",
       "      <th>2</th>\n",
       "      <td>1111009950</td>\n",
       "      <td>他預貯金-事業領域調整</td>\n",
       "      <td>資産</td>\n",
       "      <td>C_現預金</td>\n",
       "    </tr>\n",
       "    <tr>\n",
       "      <th>3</th>\n",
       "      <td>1111009970</td>\n",
       "      <td>他預貯金-会社間取引</td>\n",
       "      <td>資産</td>\n",
       "      <td>C_現預金</td>\n",
       "    </tr>\n",
       "    <tr>\n",
       "      <th>4</th>\n",
       "      <td>1111009980</td>\n",
       "      <td>他預貯金-会社間取引2</td>\n",
       "      <td>NaN</td>\n",
       "      <td>NaN</td>\n",
       "    </tr>\n",
       "  </tbody>\n",
       "</table>\n",
       "</div>"
      ],
      "text/plain": [
       "        勘定コード          科目名 勘定タイプ  勘定クラス\n",
       "0  1111000010           現金    資産  C_現預金\n",
       "1  1111009010    他預貯金-未着資金    資産  C_現預金\n",
       "2  1111009950  他預貯金-事業領域調整    資産  C_現預金\n",
       "3  1111009970   他預貯金-会社間取引    資産  C_現預金\n",
       "4  1111009980  他預貯金-会社間取引2   NaN    NaN"
      ]
     },
     "execution_count": 5,
     "metadata": {},
     "output_type": "execute_result"
    }
   ],
   "source": [
    "df_TB_data.head()"
   ]
  },
  {
   "cell_type": "code",
   "execution_count": 6,
   "metadata": {},
   "outputs": [],
   "source": [
    "# 勘定タイプマスタの読み込み（勘定クラス対応を見込んで）\n",
    "master = pd.ExcelFile('Data/勘定タイプ.xlsx')\n",
    "master_data = master.parse('勘定タイプ')"
   ]
  },
  {
   "cell_type": "code",
   "execution_count": 7,
   "metadata": {},
   "outputs": [
    {
     "data": {
      "text/html": [
       "<div>\n",
       "<style scoped>\n",
       "    .dataframe tbody tr th:only-of-type {\n",
       "        vertical-align: middle;\n",
       "    }\n",
       "\n",
       "    .dataframe tbody tr th {\n",
       "        vertical-align: top;\n",
       "    }\n",
       "\n",
       "    .dataframe thead th {\n",
       "        text-align: right;\n",
       "    }\n",
       "</style>\n",
       "<table border=\"1\" class=\"dataframe\">\n",
       "  <thead>\n",
       "    <tr style=\"text-align: right;\">\n",
       "      <th></th>\n",
       "      <th>勘定タイプ</th>\n",
       "      <th>タイプコード</th>\n",
       "    </tr>\n",
       "  </thead>\n",
       "  <tbody>\n",
       "    <tr>\n",
       "      <th>0</th>\n",
       "      <td>資産</td>\n",
       "      <td>0</td>\n",
       "    </tr>\n",
       "    <tr>\n",
       "      <th>1</th>\n",
       "      <td>負債</td>\n",
       "      <td>1</td>\n",
       "    </tr>\n",
       "    <tr>\n",
       "      <th>2</th>\n",
       "      <td>純資産</td>\n",
       "      <td>2</td>\n",
       "    </tr>\n",
       "    <tr>\n",
       "      <th>3</th>\n",
       "      <td>収益</td>\n",
       "      <td>3</td>\n",
       "    </tr>\n",
       "    <tr>\n",
       "      <th>4</th>\n",
       "      <td>費用</td>\n",
       "      <td>4</td>\n",
       "    </tr>\n",
       "  </tbody>\n",
       "</table>\n",
       "</div>"
      ],
      "text/plain": [
       "  勘定タイプ  タイプコード\n",
       "0    資産       0\n",
       "1    負債       1\n",
       "2   純資産       2\n",
       "3    収益       3\n",
       "4    費用       4"
      ]
     },
     "execution_count": 7,
     "metadata": {},
     "output_type": "execute_result"
    }
   ],
   "source": [
    "master_data.head()"
   ]
  },
  {
   "cell_type": "code",
   "execution_count": 8,
   "metadata": {},
   "outputs": [],
   "source": [
    "# 勘定科目マスタと試算表を縦連結する\n",
    "df_account_list = pd.concat([df_account_master,df_TB_data])"
   ]
  },
  {
   "cell_type": "code",
   "execution_count": 9,
   "metadata": {},
   "outputs": [],
   "source": [
    "# 重複する勘定科目コード、科目名を削除（既知の勘定科目と新規科目でユニークになるように）\n",
    "df_account_list = df_account_list.drop_duplicates(['勘定科目コード', '科目名'])"
   ]
  },
  {
   "cell_type": "code",
   "execution_count": 10,
   "metadata": {},
   "outputs": [],
   "source": [
    "# 上記のリストに勘定タイプをリンクする\n",
    "df_account_master = pd.merge(df_account_list, master_data, on='勘定タイプ', how='left')"
   ]
  },
  {
   "cell_type": "code",
   "execution_count": 11,
   "metadata": {},
   "outputs": [],
   "source": [
    "# 科目名をMecabを使って分かち書きする\n",
    "tagger = MeCab.Tagger('-F\\s%f[6] -U\\s%m -E\\\\n')\n",
    "\n",
    "df_account_master['Words'] = df_account_master['科目名'].apply(lambda x: tagger.parse(x).replace('\\n', ''))"
   ]
  },
  {
   "cell_type": "code",
   "execution_count": 12,
   "metadata": {},
   "outputs": [
    {
     "data": {
      "text/plain": [
       "32060"
      ]
     },
     "execution_count": 12,
     "metadata": {},
     "output_type": "execute_result"
    }
   ],
   "source": [
    "# Word2Vecを使ってボキャブラリーの学習を行う\n",
    "w2v = word2vec.Word2Vec(min_count=1)\n",
    "# 単語の登録\n",
    "w2v.build_vocab([doc.split(' ') for doc in df_account_master['Words']])\n",
    "# 学習\n",
    "w2v.train(df_account_master['Words'], total_examples=w2v.corpus_count, epochs=w2v.iter)"
   ]
  },
  {
   "cell_type": "code",
   "execution_count": 13,
   "metadata": {},
   "outputs": [],
   "source": [
    "embedding_layer = w2v.wv.get_keras_embedding(train_embeddings=True)"
   ]
  },
  {
   "cell_type": "code",
   "execution_count": 14,
   "metadata": {},
   "outputs": [],
   "source": [
    "# 勘定タイプがわかっている勘定科目を訓練用に抽出する\n",
    "df_account_train = df_account_master[df_account_master['勘定クラス'].notnull()]\n",
    "# 勘定タイプがわかっていない勘定科目をテスト用に抽出する\n",
    "df_account_test = df_account_master[df_account_master['勘定クラス'].isnull()]"
   ]
  },
  {
   "cell_type": "code",
   "execution_count": 15,
   "metadata": {},
   "outputs": [
    {
     "data": {
      "text/html": [
       "<div>\n",
       "<style scoped>\n",
       "    .dataframe tbody tr th:only-of-type {\n",
       "        vertical-align: middle;\n",
       "    }\n",
       "\n",
       "    .dataframe tbody tr th {\n",
       "        vertical-align: top;\n",
       "    }\n",
       "\n",
       "    .dataframe thead th {\n",
       "        text-align: right;\n",
       "    }\n",
       "</style>\n",
       "<table border=\"1\" class=\"dataframe\">\n",
       "  <thead>\n",
       "    <tr style=\"text-align: right;\">\n",
       "      <th></th>\n",
       "      <th>勘定コード</th>\n",
       "      <th>科目名</th>\n",
       "      <th>勘定タイプ</th>\n",
       "      <th>勘定クラス</th>\n",
       "      <th>タイプコード</th>\n",
       "      <th>Words</th>\n",
       "    </tr>\n",
       "  </thead>\n",
       "  <tbody>\n",
       "    <tr>\n",
       "      <th>1490</th>\n",
       "      <td>1111009980</td>\n",
       "      <td>他預貯金-会社間取引2</td>\n",
       "      <td>NaN</td>\n",
       "      <td>NaN</td>\n",
       "      <td>NaN</td>\n",
       "      <td>他 預貯金 - 会社 間 取引 2</td>\n",
       "    </tr>\n",
       "    <tr>\n",
       "      <th>1491</th>\n",
       "      <td>1132000062</td>\n",
       "      <td>売掛金(流)-一般(円貨)</td>\n",
       "      <td>NaN</td>\n",
       "      <td>NaN</td>\n",
       "      <td>NaN</td>\n",
       "      <td>売掛金 ( 流 )- 一般 ( 円貨 )</td>\n",
       "    </tr>\n",
       "    <tr>\n",
       "      <th>1492</th>\n",
       "      <td>2111109031</td>\n",
       "      <td>他短期借入金-グループ会社</td>\n",
       "      <td>NaN</td>\n",
       "      <td>NaN</td>\n",
       "      <td>NaN</td>\n",
       "      <td>他 短期 借入金 - グループ 会社</td>\n",
       "    </tr>\n",
       "    <tr>\n",
       "      <th>1493</th>\n",
       "      <td>2151209820</td>\n",
       "      <td>他預り金-他2</td>\n",
       "      <td>NaN</td>\n",
       "      <td>NaN</td>\n",
       "      <td>NaN</td>\n",
       "      <td>他 預り 金 - 他 2</td>\n",
       "    </tr>\n",
       "    <tr>\n",
       "      <th>1494</th>\n",
       "      <td>5111000005</td>\n",
       "      <td>製品売上高-関連会社レンタル</td>\n",
       "      <td>NaN</td>\n",
       "      <td>NaN</td>\n",
       "      <td>NaN</td>\n",
       "      <td>製品 売上 高 - 関連 会社 レンタル</td>\n",
       "    </tr>\n",
       "    <tr>\n",
       "      <th>1495</th>\n",
       "      <td>5214000017</td>\n",
       "      <td>研究開発費-本社他2</td>\n",
       "      <td>NaN</td>\n",
       "      <td>NaN</td>\n",
       "      <td>NaN</td>\n",
       "      <td>研究 開発 費 - 本社 他 2</td>\n",
       "    </tr>\n",
       "    <tr>\n",
       "      <th>1496</th>\n",
       "      <td>8131007621</td>\n",
       "      <td>自社利用ソフト-自社利用ソフトウェア3</td>\n",
       "      <td>NaN</td>\n",
       "      <td>NaN</td>\n",
       "      <td>NaN</td>\n",
       "      <td>自社 利用 ソフト - 自社 利用 ソフトウェア 3</td>\n",
       "    </tr>\n",
       "    <tr>\n",
       "      <th>1497</th>\n",
       "      <td>9100000007</td>\n",
       "      <td>PL通過勘定7</td>\n",
       "      <td>NaN</td>\n",
       "      <td>NaN</td>\n",
       "      <td>NaN</td>\n",
       "      <td>PL 通過 勘定 7</td>\n",
       "    </tr>\n",
       "  </tbody>\n",
       "</table>\n",
       "</div>"
      ],
      "text/plain": [
       "           勘定コード                  科目名 勘定タイプ 勘定クラス  タイプコード  \\\n",
       "1490  1111009980          他預貯金-会社間取引2   NaN   NaN     NaN   \n",
       "1491  1132000062        売掛金(流)-一般(円貨)   NaN   NaN     NaN   \n",
       "1492  2111109031        他短期借入金-グループ会社   NaN   NaN     NaN   \n",
       "1493  2151209820              他預り金-他2   NaN   NaN     NaN   \n",
       "1494  5111000005       製品売上高-関連会社レンタル   NaN   NaN     NaN   \n",
       "1495  5214000017           研究開発費-本社他2   NaN   NaN     NaN   \n",
       "1496  8131007621  自社利用ソフト-自社利用ソフトウェア3   NaN   NaN     NaN   \n",
       "1497  9100000007              PL通過勘定7   NaN   NaN     NaN   \n",
       "\n",
       "                            Words  \n",
       "1490            他 預貯金 - 会社 間 取引 2  \n",
       "1491         売掛金 ( 流 )- 一般 ( 円貨 )  \n",
       "1492           他 短期 借入金 - グループ 会社  \n",
       "1493                 他 預り 金 - 他 2  \n",
       "1494         製品 売上 高 - 関連 会社 レンタル  \n",
       "1495             研究 開発 費 - 本社 他 2  \n",
       "1496   自社 利用 ソフト - 自社 利用 ソフトウェア 3  \n",
       "1497                   PL 通過 勘定 7  "
      ]
     },
     "execution_count": 15,
     "metadata": {},
     "output_type": "execute_result"
    }
   ],
   "source": [
    "# テスト用データ（勘定タイプが不明な勘定科目一覧）\n",
    "df_account_test"
   ]
  },
  {
   "cell_type": "code",
   "execution_count": 16,
   "metadata": {},
   "outputs": [],
   "source": [
    "# それぞれのデータフレームで科目名の分散表現（ベクトル化）のリストを作成する\n",
    "tokenizer = Tokenizer()\n",
    "tokenizer.fit_on_texts(df_account_master['Words'])\n",
    "train_sequences = tokenizer.texts_to_sequences(df_account_train['Words'])\n",
    "test_sequences = tokenizer.texts_to_sequences(df_account_test['Words'])"
   ]
  },
  {
   "cell_type": "code",
   "execution_count": 17,
   "metadata": {},
   "outputs": [],
   "source": [
    "MAX_SEQUENCE_LENGTH = 50"
   ]
  },
  {
   "cell_type": "markdown",
   "metadata": {},
   "source": [
    "次に学習用データセットを準備します。 Keras の Tokenizer を用いて、単語をベクトル化する。\n",
    "単語列を単語ID列に変換し、パディングしてしまいます。"
   ]
  },
  {
   "cell_type": "code",
   "execution_count": 18,
   "metadata": {},
   "outputs": [],
   "source": [
    "# 訓練用データを作成\n",
    "X_train = pad_sequences(train_sequences, maxlen=MAX_SEQUENCE_LENGTH)\n",
    "# 訓練用データの解凍確認用勘定タイプコードを作成\n",
    "Y_train = to_categorical(df_account_train['タイプコード'])"
   ]
  },
  {
   "cell_type": "code",
   "execution_count": 19,
   "metadata": {},
   "outputs": [],
   "source": [
    "# テスト用データを作成\n",
    "X_test = pad_sequences(test_sequences, maxlen=MAX_SEQUENCE_LENGTH)"
   ]
  },
  {
   "cell_type": "code",
   "execution_count": 20,
   "metadata": {},
   "outputs": [],
   "source": [
    "# 訓練データをさらに訓練データと検証データに分類\n",
    "N_validation =0.2\n",
    "X_train, X_validation, Y_train, Y_validation = train_test_split(X_train, Y_train, test_size = N_validation)"
   ]
  },
  {
   "cell_type": "code",
   "execution_count": 21,
   "metadata": {},
   "outputs": [],
   "source": [
    "#モデル作成\n",
    "# 入力層\n",
    "sequence_input = Input(shape=(MAX_SEQUENCE_LENGTH,), dtype='int32')\n",
    "# 埋め込み層\n",
    "embedded_sequences = embedding_layer(sequence_input)\n",
    "# 活性化関数\n",
    "x = LSTM(units=128, dropout=0.2, recurrent_dropout=0.2)(embedded_sequences)\n",
    "# 出力層\n",
    "preds = Dense(Y_train.shape[1], activation='softmax')(x)\n",
    "\n",
    "model = Model(sequence_input, preds)\n",
    "\n",
    "model.compile(loss='categorical_crossentropy', optimizer='adam', metrics=['acc'])"
   ]
  },
  {
   "cell_type": "code",
   "execution_count": 22,
   "metadata": {
    "scrolled": true
   },
   "outputs": [
    {
     "name": "stdout",
     "output_type": "stream",
     "text": [
      "Train on 1192 samples, validate on 298 samples\n",
      "Epoch 1/100\n",
      "1192/1192 [==============================] - 5s 4ms/step - loss: 1.2351 - acc: 0.5310 - val_loss: 1.0870 - val_acc: 0.5336\n",
      "Epoch 2/100\n",
      "1192/1192 [==============================] - 3s 2ms/step - loss: 0.9826 - acc: 0.6166 - val_loss: 0.9411 - val_acc: 0.6611\n",
      "Epoch 3/100\n",
      "1192/1192 [==============================] - 3s 2ms/step - loss: 0.7199 - acc: 0.7399 - val_loss: 0.5654 - val_acc: 0.8121\n",
      "Epoch 4/100\n",
      "1192/1192 [==============================] - 3s 2ms/step - loss: 0.4268 - acc: 0.8674 - val_loss: 0.3950 - val_acc: 0.8758\n",
      "Epoch 5/100\n",
      "1192/1192 [==============================] - 2s 2ms/step - loss: 0.2644 - acc: 0.9178 - val_loss: 0.3423 - val_acc: 0.8859\n",
      "Epoch 6/100\n",
      "1192/1192 [==============================] - 3s 2ms/step - loss: 0.2083 - acc: 0.9312 - val_loss: 0.2678 - val_acc: 0.9128\n",
      "Epoch 7/100\n",
      "1192/1192 [==============================] - 3s 2ms/step - loss: 0.1453 - acc: 0.9438 - val_loss: 0.2221 - val_acc: 0.9195\n",
      "Epoch 8/100\n",
      "1192/1192 [==============================] - 3s 2ms/step - loss: 0.1373 - acc: 0.9547 - val_loss: 0.3010 - val_acc: 0.9027\n",
      "Epoch 9/100\n",
      "1192/1192 [==============================] - 3s 2ms/step - loss: 0.1185 - acc: 0.9564 - val_loss: 0.2510 - val_acc: 0.9161\n",
      "Epoch 10/100\n",
      "1192/1192 [==============================] - 3s 2ms/step - loss: 0.0905 - acc: 0.9715 - val_loss: 0.2514 - val_acc: 0.9094\n",
      "Epoch 11/100\n",
      "1192/1192 [==============================] - 3s 2ms/step - loss: 0.0964 - acc: 0.9757 - val_loss: 0.2534 - val_acc: 0.9262\n",
      "Epoch 12/100\n",
      "1192/1192 [==============================] - 3s 2ms/step - loss: 0.0631 - acc: 0.9815 - val_loss: 0.2021 - val_acc: 0.9362\n",
      "Epoch 13/100\n",
      "1192/1192 [==============================] - 3s 2ms/step - loss: 0.0522 - acc: 0.9857 - val_loss: 0.1735 - val_acc: 0.9463\n",
      "Epoch 14/100\n",
      "1192/1192 [==============================] - 3s 2ms/step - loss: 0.0449 - acc: 0.9916 - val_loss: 0.1711 - val_acc: 0.9530\n",
      "Epoch 15/100\n",
      "1192/1192 [==============================] - 3s 2ms/step - loss: 0.0384 - acc: 0.9950 - val_loss: 0.1723 - val_acc: 0.9463\n",
      "Epoch 16/100\n",
      "1192/1192 [==============================] - 3s 2ms/step - loss: 0.0413 - acc: 0.9933 - val_loss: 0.1639 - val_acc: 0.9530\n",
      "Epoch 17/100\n",
      "1192/1192 [==============================] - 3s 2ms/step - loss: 0.0212 - acc: 0.9966 - val_loss: 0.1628 - val_acc: 0.9564\n",
      "Epoch 18/100\n",
      "1192/1192 [==============================] - 3s 2ms/step - loss: 0.0175 - acc: 0.9975 - val_loss: 0.1928 - val_acc: 0.9430\n",
      "Epoch 19/100\n",
      "1192/1192 [==============================] - 3s 2ms/step - loss: 0.0151 - acc: 0.9975 - val_loss: 0.1599 - val_acc: 0.9564\n",
      "Epoch 20/100\n",
      "1192/1192 [==============================] - 3s 2ms/step - loss: 0.0091 - acc: 1.0000 - val_loss: 0.1390 - val_acc: 0.9631\n",
      "Epoch 21/100\n",
      "1192/1192 [==============================] - 3s 2ms/step - loss: 0.0067 - acc: 1.0000 - val_loss: 0.1866 - val_acc: 0.9564\n",
      "Epoch 22/100\n",
      "1192/1192 [==============================] - 3s 2ms/step - loss: 0.0080 - acc: 0.9983 - val_loss: 0.1379 - val_acc: 0.9732\n",
      "Epoch 23/100\n",
      "1192/1192 [==============================] - 3s 2ms/step - loss: 0.0047 - acc: 1.0000 - val_loss: 0.1304 - val_acc: 0.9732\n",
      "Epoch 24/100\n",
      "1192/1192 [==============================] - 3s 2ms/step - loss: 0.0043 - acc: 1.0000 - val_loss: 0.1420 - val_acc: 0.9664\n",
      "Epoch 25/100\n",
      "1192/1192 [==============================] - 3s 2ms/step - loss: 0.0255 - acc: 0.9958 - val_loss: 0.2012 - val_acc: 0.9564\n",
      "Epoch 26/100\n",
      "1192/1192 [==============================] - 3s 2ms/step - loss: 0.0146 - acc: 0.9975 - val_loss: 0.1201 - val_acc: 0.9664\n",
      "Epoch 27/100\n",
      "1192/1192 [==============================] - 3s 2ms/step - loss: 0.0094 - acc: 0.9983 - val_loss: 0.0946 - val_acc: 0.9765\n",
      "Epoch 28/100\n",
      "1192/1192 [==============================] - 3s 2ms/step - loss: 0.0035 - acc: 1.0000 - val_loss: 0.0830 - val_acc: 0.9799\n",
      "Epoch 29/100\n",
      "1192/1192 [==============================] - 2s 2ms/step - loss: 0.0037 - acc: 1.0000 - val_loss: 0.0740 - val_acc: 0.9799\n",
      "Epoch 30/100\n",
      "1192/1192 [==============================] - 3s 2ms/step - loss: 0.0080 - acc: 0.9983 - val_loss: 0.1191 - val_acc: 0.9698\n",
      "Epoch 31/100\n",
      "1192/1192 [==============================] - 3s 2ms/step - loss: 0.0025 - acc: 1.0000 - val_loss: 0.1017 - val_acc: 0.9732\n",
      "Epoch 32/100\n",
      "1192/1192 [==============================] - 3s 2ms/step - loss: 0.0059 - acc: 0.9983 - val_loss: 0.0967 - val_acc: 0.9732\n",
      "Epoch 33/100\n",
      "1192/1192 [==============================] - 3s 2ms/step - loss: 0.0037 - acc: 0.9992 - val_loss: 0.1199 - val_acc: 0.9698\n",
      "Epoch 34/100\n",
      "1192/1192 [==============================] - 3s 2ms/step - loss: 0.0019 - acc: 1.0000 - val_loss: 0.1054 - val_acc: 0.9732\n",
      "Epoch 35/100\n",
      "1192/1192 [==============================] - 3s 2ms/step - loss: 0.0012 - acc: 1.0000 - val_loss: 0.0986 - val_acc: 0.9698\n",
      "Epoch 36/100\n",
      "1192/1192 [==============================] - 3s 2ms/step - loss: 0.0011 - acc: 1.0000 - val_loss: 0.0958 - val_acc: 0.9698\n",
      "Epoch 37/100\n",
      "1192/1192 [==============================] - 3s 2ms/step - loss: 0.0015 - acc: 1.0000 - val_loss: 0.0916 - val_acc: 0.9732\n",
      "Epoch 38/100\n",
      "1192/1192 [==============================] - 3s 2ms/step - loss: 0.0011 - acc: 1.0000 - val_loss: 0.0878 - val_acc: 0.9698\n",
      "Epoch 39/100\n",
      "1192/1192 [==============================] - 3s 2ms/step - loss: 8.6612e-04 - acc: 1.0000 - val_loss: 0.0844 - val_acc: 0.9698\n",
      "Epoch 00039: early stopping\n"
     ]
    }
   ],
   "source": [
    "# 過学習（オーバーフィッティング）防止の為、前のエポックのときと比べ誤差が増えたら学習を打ち切る\n",
    "early_stopping = EarlyStopping(monitor='val_loss', patience=10, verbose=1)\n",
    "epochs = 100\n",
    "\n",
    "hist = model.fit(X_train, Y_train, epochs=epochs,\n",
    "          validation_data=(X_validation, Y_validation),\n",
    "          callbacks=[early_stopping])"
   ]
  },
  {
   "cell_type": "code",
   "execution_count": 23,
   "metadata": {},
   "outputs": [
    {
     "data": {
      "image/png": "[encoded data removed]",
      "text/plain": [
       "<matplotlib.figure.Figure at 0x1a234ba5c0>"
      ]
     },
     "metadata": {},
     "output_type": "display_data"
    }
   ],
   "source": [
    "# 訓練の進み具合を可視化\n",
    "\n",
    "val_acc = hist.history['val_acc']\n",
    "val_loss = hist.history['val_loss']\n",
    "\n",
    "plt.rc('font', family='serif')\n",
    "fig = plt.figure()\n",
    "plt.plot(range(len(val_acc)), val_acc, label='val_acc', color='red')\n",
    "plt.plot(range(len(val_loss)), val_loss, label='val_loss', color='black')\n",
    "\n",
    "plt.xlabel('epochs')\n",
    "plt.show()"
   ]
  },
  {
   "cell_type": "code",
   "execution_count": 24,
   "metadata": {},
   "outputs": [
    {
     "name": "stdout",
     "output_type": "stream",
     "text": [
      "298/298 [==============================] - 0s 462us/step\n",
      "[0.084420920536781491, 0.96979865771812079]\n"
     ]
    }
   ],
   "source": [
    "# 予測精度の評価\n",
    "loss_and_metrics = model.evaluate(X_validation, Y_validation)\n",
    "print(loss_and_metrics) # 1番目：誤差関数の値、2番目：予測精度"
   ]
  },
  {
   "cell_type": "code",
   "execution_count": 25,
   "metadata": {},
   "outputs": [],
   "source": [
    "# テスト用データを使用して予測する\n",
    "X_predict = np.argmax(model.predict(X_test),axis=1)"
   ]
  },
  {
   "cell_type": "code",
   "execution_count": 26,
   "metadata": {},
   "outputs": [],
   "source": [
    "# テスト用データフレームに結果を返す\n",
    "i = 0\n",
    "for index, row in df_account_test.iterrows():\n",
    "    df_account_test.at[index, 'タイプコード'] = X_predict[i]\n",
    "    df_account_test.at[index, '勘定タイプ'] = master_data.loc[X_predict[i],'勘定タイプ']\n",
    "    i += 1"
   ]
  },
  {
   "cell_type": "code",
   "execution_count": 27,
   "metadata": {},
   "outputs": [
    {
     "data": {
      "text/html": [
       "<div>\n",
       "<style scoped>\n",
       "    .dataframe tbody tr th:only-of-type {\n",
       "        vertical-align: middle;\n",
       "    }\n",
       "\n",
       "    .dataframe tbody tr th {\n",
       "        vertical-align: top;\n",
       "    }\n",
       "\n",
       "    .dataframe thead th {\n",
       "        text-align: right;\n",
       "    }\n",
       "</style>\n",
       "<table border=\"1\" class=\"dataframe\">\n",
       "  <thead>\n",
       "    <tr style=\"text-align: right;\">\n",
       "      <th></th>\n",
       "      <th>勘定コード</th>\n",
       "      <th>科目名</th>\n",
       "      <th>勘定タイプ</th>\n",
       "      <th>勘定クラス</th>\n",
       "      <th>タイプコード</th>\n",
       "      <th>Words</th>\n",
       "    </tr>\n",
       "  </thead>\n",
       "  <tbody>\n",
       "    <tr>\n",
       "      <th>1490</th>\n",
       "      <td>1111009980</td>\n",
       "      <td>他預貯金-会社間取引2</td>\n",
       "      <td>資産</td>\n",
       "      <td>NaN</td>\n",
       "      <td>0.0</td>\n",
       "      <td>他 預貯金 - 会社 間 取引 2</td>\n",
       "    </tr>\n",
       "    <tr>\n",
       "      <th>1491</th>\n",
       "      <td>1132000062</td>\n",
       "      <td>売掛金(流)-一般(円貨)</td>\n",
       "      <td>資産</td>\n",
       "      <td>NaN</td>\n",
       "      <td>0.0</td>\n",
       "      <td>売掛金 ( 流 )- 一般 ( 円貨 )</td>\n",
       "    </tr>\n",
       "    <tr>\n",
       "      <th>1492</th>\n",
       "      <td>2111109031</td>\n",
       "      <td>他短期借入金-グループ会社</td>\n",
       "      <td>負債</td>\n",
       "      <td>NaN</td>\n",
       "      <td>1.0</td>\n",
       "      <td>他 短期 借入金 - グループ 会社</td>\n",
       "    </tr>\n",
       "    <tr>\n",
       "      <th>1493</th>\n",
       "      <td>2151209820</td>\n",
       "      <td>他預り金-他2</td>\n",
       "      <td>負債</td>\n",
       "      <td>NaN</td>\n",
       "      <td>1.0</td>\n",
       "      <td>他 預り 金 - 他 2</td>\n",
       "    </tr>\n",
       "    <tr>\n",
       "      <th>1494</th>\n",
       "      <td>5111000005</td>\n",
       "      <td>製品売上高-関連会社レンタル</td>\n",
       "      <td>収益</td>\n",
       "      <td>NaN</td>\n",
       "      <td>3.0</td>\n",
       "      <td>製品 売上 高 - 関連 会社 レンタル</td>\n",
       "    </tr>\n",
       "    <tr>\n",
       "      <th>1495</th>\n",
       "      <td>5214000017</td>\n",
       "      <td>研究開発費-本社他2</td>\n",
       "      <td>費用</td>\n",
       "      <td>NaN</td>\n",
       "      <td>4.0</td>\n",
       "      <td>研究 開発 費 - 本社 他 2</td>\n",
       "    </tr>\n",
       "    <tr>\n",
       "      <th>1496</th>\n",
       "      <td>8131007621</td>\n",
       "      <td>自社利用ソフト-自社利用ソフトウェア3</td>\n",
       "      <td>費用</td>\n",
       "      <td>NaN</td>\n",
       "      <td>4.0</td>\n",
       "      <td>自社 利用 ソフト - 自社 利用 ソフトウェア 3</td>\n",
       "    </tr>\n",
       "    <tr>\n",
       "      <th>1497</th>\n",
       "      <td>9100000007</td>\n",
       "      <td>PL通過勘定7</td>\n",
       "      <td>資産</td>\n",
       "      <td>NaN</td>\n",
       "      <td>0.0</td>\n",
       "      <td>PL 通過 勘定 7</td>\n",
       "    </tr>\n",
       "  </tbody>\n",
       "</table>\n",
       "</div>"
      ],
      "text/plain": [
       "           勘定コード                  科目名 勘定タイプ 勘定クラス  タイプコード  \\\n",
       "1490  1111009980          他預貯金-会社間取引2    資産   NaN     0.0   \n",
       "1491  1132000062        売掛金(流)-一般(円貨)    資産   NaN     0.0   \n",
       "1492  2111109031        他短期借入金-グループ会社    負債   NaN     1.0   \n",
       "1493  2151209820              他預り金-他2    負債   NaN     1.0   \n",
       "1494  5111000005       製品売上高-関連会社レンタル    収益   NaN     3.0   \n",
       "1495  5214000017           研究開発費-本社他2    費用   NaN     4.0   \n",
       "1496  8131007621  自社利用ソフト-自社利用ソフトウェア3    費用   NaN     4.0   \n",
       "1497  9100000007              PL通過勘定7    資産   NaN     0.0   \n",
       "\n",
       "                            Words  \n",
       "1490            他 預貯金 - 会社 間 取引 2  \n",
       "1491         売掛金 ( 流 )- 一般 ( 円貨 )  \n",
       "1492           他 短期 借入金 - グループ 会社  \n",
       "1493                 他 預り 金 - 他 2  \n",
       "1494         製品 売上 高 - 関連 会社 レンタル  \n",
       "1495             研究 開発 費 - 本社 他 2  \n",
       "1496   自社 利用 ソフト - 自社 利用 ソフトウェア 3  \n",
       "1497                   PL 通過 勘定 7  "
      ]
     },
     "execution_count": 27,
     "metadata": {},
     "output_type": "execute_result"
    }
   ],
   "source": [
    "# 予測結果\n",
    "df_account_test"
   ]
  },
  {
   "cell_type": "code",
   "execution_count": 28,
   "metadata": {},
   "outputs": [],
   "source": [
    "# 訓練データをテストデータを結合して新規科目マスターを作成する\n",
    "df_account_result = pd.concat([df_account_train,df_account_test])"
   ]
  },
  {
   "cell_type": "code",
   "execution_count": 29,
   "metadata": {},
   "outputs": [],
   "source": [
    "# 新規科目マスターをEXCELデータとして出力する\n",
    "df_account_result.to_excel('data/訓練結果.xlsx', sheet_name='勘定科目一覧')"
   ]
  },
  {
   "cell_type": "code",
   "execution_count": null,
   "metadata": {},
   "outputs": [],
   "source": []
  }
 ],
 "metadata": {
  "kernelspec": {
   "display_name": "Python 3",
   "language": "python",
   "name": "python3"
  },
  "language_info": {
   "codemirror_mode": {
    "name": "ipython",
    "version": 3
   },
   "file_extension": ".py",
   "mimetype": "text/x-python",
   "name": "python",
   "nbconvert_exporter": "python",
   "pygments_lexer": "ipython3",
   "version": "3.5.4"
  }
 },
 "nbformat": 4,
 "nbformat_minor": 2
}
