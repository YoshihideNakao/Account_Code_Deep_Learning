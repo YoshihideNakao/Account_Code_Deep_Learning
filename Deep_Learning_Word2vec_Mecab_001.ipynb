{
 "cells": [
  {
   "cell_type": "markdown",
   "metadata": {},
   "source": [
    "gensim で分散表現を学習した後に、その重みを初期値として設定した Keras の Embedding層を取得する"
   ]
  },
  {
   "cell_type": "code",
   "execution_count": 2,
   "metadata": {},
   "outputs": [
    {
     "name": "stderr",
     "output_type": "stream",
     "text": [
      "C:\\Users\\yoshihide.nakao\\AppData\\Local\\Continuum\\Anaconda3\\lib\\site-packages\\gensim\\utils.py:860: UserWarning: detected Windows; aliasing chunkize to chunkize_serial\n",
      "  warnings.warn(\"detected Windows; aliasing chunkize to chunkize_serial\")\n",
      "Using TensorFlow backend.\n"
     ]
    },
    {
     "ename": "ImportError",
     "evalue": "No module named 'MeCab'",
     "output_type": "error",
     "traceback": [
      "\u001b[1;31m---------------------------------------------------------------------------\u001b[0m",
      "\u001b[1;31mImportError\u001b[0m                               Traceback (most recent call last)",
      "\u001b[1;32m<ipython-input-2-baccf5db6c61>\u001b[0m in \u001b[0;36m<module>\u001b[1;34m()\u001b[0m\n\u001b[0;32m     12\u001b[0m \u001b[1;32mfrom\u001b[0m \u001b[0mkeras\u001b[0m\u001b[1;33m.\u001b[0m\u001b[0mutils\u001b[0m\u001b[1;33m.\u001b[0m\u001b[0mnp_utils\u001b[0m \u001b[1;32mimport\u001b[0m \u001b[0mto_categorical\u001b[0m\u001b[1;33m\u001b[0m\u001b[0m\n\u001b[0;32m     13\u001b[0m \u001b[1;32mfrom\u001b[0m \u001b[0mkeras\u001b[0m\u001b[1;33m.\u001b[0m\u001b[0mlayers\u001b[0m \u001b[1;32mimport\u001b[0m \u001b[0mDense\u001b[0m\u001b[1;33m,\u001b[0m \u001b[0mInput\u001b[0m\u001b[1;33m,\u001b[0m \u001b[0mLSTM\u001b[0m\u001b[1;33m\u001b[0m\u001b[0m\n\u001b[1;32m---> 14\u001b[1;33m \u001b[1;32mimport\u001b[0m \u001b[0mMeCab\u001b[0m\u001b[1;33m\u001b[0m\u001b[0m\n\u001b[0m\u001b[0;32m     15\u001b[0m \u001b[1;33m\u001b[0m\u001b[0m\n\u001b[0;32m     16\u001b[0m \u001b[1;32mimport\u001b[0m \u001b[0mmatplotlib\u001b[0m\u001b[1;33m.\u001b[0m\u001b[0mpyplot\u001b[0m \u001b[1;32mas\u001b[0m \u001b[0mplt\u001b[0m\u001b[1;33m\u001b[0m\u001b[0m\n",
      "\u001b[1;31mImportError\u001b[0m: No module named 'MeCab'"
     ]
    }
   ],
   "source": [
    "import numpy as np\n",
    "from gensim.models import word2vec\n",
    "from keras.callbacks import EarlyStopping\n",
    "from sklearn.model_selection import train_test_split\n",
    "\n",
    "from keras.models import Model\n",
    "from keras.models import Sequential\n",
    "from keras.layers import Embedding\n",
    "\n",
    "from keras.preprocessing.text import Tokenizer\n",
    "from keras.preprocessing.sequence import pad_sequences\n",
    "from keras.utils.np_utils import to_categorical\n",
    "from keras.layers import Dense, Input, LSTM\n",
    "import MeCab\n",
    "\n",
    "import matplotlib.pyplot as plt\n",
    "%matplotlib inline"
   ]
  },
  {
   "cell_type": "code",
   "execution_count": 2,
   "metadata": {},
   "outputs": [],
   "source": [
    "account_file = open(\"Data/勘定科目コード.csv\",'r')\n",
    "account_data = account_file.readlines()\n",
    "account_file.close()"
   ]
  },
  {
   "cell_type": "code",
   "execution_count": 3,
   "metadata": {},
   "outputs": [],
   "source": [
    "# 読み込んだデータをPythonリスト形式に変換して、2番目の勘定科目名と3番目の科目タイプを分離する\n",
    "tagger = MeCab.Tagger('-F\\s%f[6] -U\\s%m -E\\\\n')\n",
    "\n",
    "n = len(account_data)\n",
    "account_list = []\n",
    "account_target = []\n",
    "for i in range(n):\n",
    "    words = tagger.parse(account_data[i].split(',')[1])\n",
    "    account_list.append(words.replace('\\n', ''))\n",
    "    account_target.append(int(account_data[i].split(',')[3]))"
   ]
  },
  {
   "cell_type": "markdown",
   "metadata": {},
   "source": [
    "データが用意できたら、Word2vec のモデルを学習します。"
   ]
  },
  {
   "cell_type": "code",
   "execution_count": 4,
   "metadata": {},
   "outputs": [
    {
     "data": {
      "text/plain": [
       "1399"
      ]
     },
     "execution_count": 4,
     "metadata": {},
     "output_type": "execute_result"
    }
   ],
   "source": [
    "w2v = word2vec.Word2Vec(min_count=1)\n",
    "# 単語の登録\n",
    "w2v.build_vocab([doc.split(' ') for doc in account_list])\n",
    "# 学習\n",
    "w2v.train(account_list, total_examples=w2v.corpus_count, epochs=w2v.iter)"
   ]
  },
  {
   "cell_type": "markdown",
   "metadata": {},
   "source": [
    "学習が終わったら、get_embedding_layerメソッドを用いて、Keras の Embedding層を取得します。"
   ]
  },
  {
   "cell_type": "code",
   "execution_count": 5,
   "metadata": {},
   "outputs": [],
   "source": [
    "embedding_layer = w2v.wv.get_keras_embedding(train_embeddings=True)"
   ]
  },
  {
   "cell_type": "code",
   "execution_count": 6,
   "metadata": {},
   "outputs": [],
   "source": [
    "MAX_SEQUENCE_LENGTH = 50"
   ]
  },
  {
   "cell_type": "markdown",
   "metadata": {},
   "source": [
    "次に学習用データセットを準備します。 Keras の Tokenizer を用いて、単語をベクトル化する。\n",
    "単語列を単語ID列に変換し、パディングしてしまいます。"
   ]
  },
  {
   "cell_type": "code",
   "execution_count": 7,
   "metadata": {},
   "outputs": [],
   "source": [
    "tokenizer = Tokenizer()\n",
    "tokenizer.fit_on_texts(account_list)\n",
    "sequences = tokenizer.texts_to_sequences(account_list)\n",
    "X = pad_sequences(sequences, maxlen=MAX_SEQUENCE_LENGTH)\n",
    "Y = to_categorical(account_target)"
   ]
  },
  {
   "cell_type": "code",
   "execution_count": 8,
   "metadata": {},
   "outputs": [
    {
     "name": "stderr",
     "output_type": "stream",
     "text": [
      "//anaconda/lib/python3.5/site-packages/sklearn/model_selection/_split.py:2026: FutureWarning: From version 0.21, test_size will always complement train_size unless both are specified.\n",
      "  FutureWarning)\n"
     ]
    }
   ],
   "source": [
    "N_train = 0.9\n",
    "N_validation =0.2\n",
    "\n",
    "# 訓練データとテストデータに分類\n",
    "X_train, X_test, Y_train, Y_test = train_test_split(X, Y, train_size=N_train)"
   ]
  },
  {
   "cell_type": "code",
   "execution_count": 9,
   "metadata": {},
   "outputs": [],
   "source": [
    "# 訓練データをさらに訓練データと検証データに分類\n",
    "X_train, X_validation, Y_train, Y_validation = train_test_split(X_train, Y_train, test_size = N_validation)"
   ]
  },
  {
   "cell_type": "code",
   "execution_count": 10,
   "metadata": {},
   "outputs": [
    {
     "name": "stderr",
     "output_type": "stream",
     "text": [
      "//anaconda/lib/python3.5/site-packages/ipykernel_launcher.py:7: UserWarning: Update your `LSTM` call to the Keras 2 API: `LSTM(recurrent_dropout=0.2, units=128, dropout=0.2)`\n",
      "  import sys\n"
     ]
    }
   ],
   "source": [
    "#モデル作成\n",
    "# 入力層\n",
    "sequence_input = Input(shape=(MAX_SEQUENCE_LENGTH,), dtype='int32')\n",
    "# 隠れ層\n",
    "embedded_sequences = embedding_layer(sequence_input)\n",
    "\n",
    "x = LSTM(output_dim=128, dropout=0.2, recurrent_dropout=0.2)(embedded_sequences)\n",
    "\n",
    "# 出力層\n",
    "preds = Dense(Y_train.shape[1], activation='softmax')(x)\n",
    "\n",
    "model = Model(sequence_input, preds)\n",
    "\n",
    "model.compile(loss='categorical_crossentropy', optimizer='adam', metrics=['acc'])"
   ]
  },
  {
   "cell_type": "code",
   "execution_count": 11,
   "metadata": {},
   "outputs": [
    {
     "name": "stdout",
     "output_type": "stream",
     "text": [
      "Train on 131 samples, validate on 33 samples\n",
      "Epoch 1/100\n",
      "131/131 [==============================] - 2s 18ms/step - loss: 1.5941 - acc: 0.4962 - val_loss: 1.5497 - val_acc: 0.4848\n",
      "Epoch 2/100\n",
      "131/131 [==============================] - 0s 2ms/step - loss: 1.4878 - acc: 0.5344 - val_loss: 1.3634 - val_acc: 0.4848\n",
      "Epoch 3/100\n",
      "131/131 [==============================] - 0s 2ms/step - loss: 1.3196 - acc: 0.5344 - val_loss: 1.3585 - val_acc: 0.4848\n",
      "Epoch 4/100\n",
      "131/131 [==============================] - 0s 2ms/step - loss: 1.3201 - acc: 0.5344 - val_loss: 1.3568 - val_acc: 0.4848\n",
      "Epoch 5/100\n",
      "131/131 [==============================] - 0s 2ms/step - loss: 1.2991 - acc: 0.5344 - val_loss: 1.3365 - val_acc: 0.4848\n",
      "Epoch 6/100\n",
      "131/131 [==============================] - 0s 2ms/step - loss: 1.2630 - acc: 0.5344 - val_loss: 1.3244 - val_acc: 0.4848\n",
      "Epoch 7/100\n",
      "131/131 [==============================] - 0s 2ms/step - loss: 1.2237 - acc: 0.5344 - val_loss: 1.3018 - val_acc: 0.4848\n",
      "Epoch 8/100\n",
      "131/131 [==============================] - 0s 2ms/step - loss: 1.2024 - acc: 0.5344 - val_loss: 1.2733 - val_acc: 0.4848\n",
      "Epoch 9/100\n",
      "131/131 [==============================] - 0s 2ms/step - loss: 1.1489 - acc: 0.5344 - val_loss: 1.2496 - val_acc: 0.4848\n",
      "Epoch 10/100\n",
      "131/131 [==============================] - 0s 2ms/step - loss: 1.0960 - acc: 0.5344 - val_loss: 1.2104 - val_acc: 0.4848\n",
      "Epoch 11/100\n",
      "131/131 [==============================] - 0s 2ms/step - loss: 1.0249 - acc: 0.5344 - val_loss: 1.1662 - val_acc: 0.5152\n",
      "Epoch 12/100\n",
      "131/131 [==============================] - 0s 2ms/step - loss: 0.9787 - acc: 0.6336 - val_loss: 1.1306 - val_acc: 0.5455\n",
      "Epoch 13/100\n",
      "131/131 [==============================] - 0s 2ms/step - loss: 0.9316 - acc: 0.6565 - val_loss: 1.0831 - val_acc: 0.5455\n",
      "Epoch 14/100\n",
      "131/131 [==============================] - 0s 2ms/step - loss: 0.8827 - acc: 0.6794 - val_loss: 1.0529 - val_acc: 0.5758\n",
      "Epoch 15/100\n",
      "131/131 [==============================] - 0s 2ms/step - loss: 0.8401 - acc: 0.6870 - val_loss: 1.0269 - val_acc: 0.5758\n",
      "Epoch 16/100\n",
      "131/131 [==============================] - 0s 2ms/step - loss: 0.8018 - acc: 0.7405 - val_loss: 1.0049 - val_acc: 0.6364\n",
      "Epoch 17/100\n",
      "131/131 [==============================] - 0s 2ms/step - loss: 0.7722 - acc: 0.7863 - val_loss: 0.9794 - val_acc: 0.6364\n",
      "Epoch 18/100\n",
      "131/131 [==============================] - 0s 2ms/step - loss: 0.7305 - acc: 0.7863 - val_loss: 0.9542 - val_acc: 0.6364\n",
      "Epoch 19/100\n",
      "131/131 [==============================] - 0s 2ms/step - loss: 0.6895 - acc: 0.7710 - val_loss: 0.9303 - val_acc: 0.6667\n",
      "Epoch 20/100\n",
      "131/131 [==============================] - 0s 2ms/step - loss: 0.6575 - acc: 0.7939 - val_loss: 0.8967 - val_acc: 0.6667\n",
      "Epoch 21/100\n",
      "131/131 [==============================] - 0s 2ms/step - loss: 0.6163 - acc: 0.7863 - val_loss: 0.8755 - val_acc: 0.6667\n",
      "Epoch 22/100\n",
      "131/131 [==============================] - 0s 2ms/step - loss: 0.5959 - acc: 0.7786 - val_loss: 0.8487 - val_acc: 0.6667\n",
      "Epoch 23/100\n",
      "131/131 [==============================] - 0s 2ms/step - loss: 0.5661 - acc: 0.7481 - val_loss: 0.8269 - val_acc: 0.6061\n",
      "Epoch 24/100\n",
      "131/131 [==============================] - 0s 2ms/step - loss: 0.5472 - acc: 0.8473 - val_loss: 0.8358 - val_acc: 0.6364\n",
      "Epoch 25/100\n",
      "131/131 [==============================] - 0s 2ms/step - loss: 0.5019 - acc: 0.9008 - val_loss: 0.7981 - val_acc: 0.5758\n",
      "Epoch 26/100\n",
      "131/131 [==============================] - 0s 2ms/step - loss: 0.4481 - acc: 0.9008 - val_loss: 0.8275 - val_acc: 0.6667\n",
      "Epoch 27/100\n",
      "131/131 [==============================] - 0s 2ms/step - loss: 0.4316 - acc: 0.8244 - val_loss: 0.7547 - val_acc: 0.5758\n",
      "Epoch 28/100\n",
      "131/131 [==============================] - 0s 2ms/step - loss: 0.3780 - acc: 0.8779 - val_loss: 0.7346 - val_acc: 0.6061\n",
      "Epoch 29/100\n",
      "131/131 [==============================] - 0s 2ms/step - loss: 0.3661 - acc: 0.9008 - val_loss: 0.7281 - val_acc: 0.6364\n",
      "Epoch 30/100\n",
      "131/131 [==============================] - 0s 3ms/step - loss: 0.3135 - acc: 0.9160 - val_loss: 0.7571 - val_acc: 0.6667\n",
      "Epoch 31/100\n",
      "131/131 [==============================] - 0s 2ms/step - loss: 0.2862 - acc: 0.9237 - val_loss: 0.7200 - val_acc: 0.6364\n",
      "Epoch 32/100\n",
      "131/131 [==============================] - 0s 2ms/step - loss: 0.2612 - acc: 0.9389 - val_loss: 0.6823 - val_acc: 0.6667\n",
      "Epoch 33/100\n",
      "131/131 [==============================] - 0s 2ms/step - loss: 0.2228 - acc: 0.9542 - val_loss: 0.6470 - val_acc: 0.6364\n",
      "Epoch 34/100\n",
      "131/131 [==============================] - 0s 2ms/step - loss: 0.2075 - acc: 0.9542 - val_loss: 0.6142 - val_acc: 0.6364\n",
      "Epoch 35/100\n",
      "131/131 [==============================] - 0s 2ms/step - loss: 0.2116 - acc: 0.9237 - val_loss: 0.5768 - val_acc: 0.6970\n",
      "Epoch 36/100\n",
      "131/131 [==============================] - 0s 2ms/step - loss: 0.2040 - acc: 0.9389 - val_loss: 0.5776 - val_acc: 0.6667\n",
      "Epoch 37/100\n",
      "131/131 [==============================] - 0s 2ms/step - loss: 0.1675 - acc: 0.9466 - val_loss: 0.5779 - val_acc: 0.6970\n",
      "Epoch 38/100\n",
      "131/131 [==============================] - 0s 2ms/step - loss: 0.1712 - acc: 0.9618 - val_loss: 0.5738 - val_acc: 0.7273\n",
      "Epoch 39/100\n",
      "131/131 [==============================] - 0s 2ms/step - loss: 0.1499 - acc: 0.9618 - val_loss: 0.6056 - val_acc: 0.6970\n",
      "Epoch 40/100\n",
      "131/131 [==============================] - 0s 2ms/step - loss: 0.1543 - acc: 0.9542 - val_loss: 0.5843 - val_acc: 0.7273\n",
      "Epoch 41/100\n",
      "131/131 [==============================] - 0s 2ms/step - loss: 0.2184 - acc: 0.9389 - val_loss: 0.7617 - val_acc: 0.6667\n",
      "Epoch 42/100\n",
      "131/131 [==============================] - 0s 2ms/step - loss: 0.2622 - acc: 0.9237 - val_loss: 0.6375 - val_acc: 0.7273\n",
      "Epoch 43/100\n",
      "131/131 [==============================] - 0s 2ms/step - loss: 0.1875 - acc: 0.9542 - val_loss: 0.6009 - val_acc: 0.8182\n",
      "Epoch 44/100\n",
      "131/131 [==============================] - 0s 2ms/step - loss: 0.1808 - acc: 0.9771 - val_loss: 0.5840 - val_acc: 0.7576\n",
      "Epoch 45/100\n",
      "131/131 [==============================] - 0s 2ms/step - loss: 0.1643 - acc: 0.9695 - val_loss: 0.5830 - val_acc: 0.6667\n",
      "Epoch 46/100\n",
      "131/131 [==============================] - 0s 2ms/step - loss: 0.1378 - acc: 0.9695 - val_loss: 0.5845 - val_acc: 0.7273\n",
      "Epoch 47/100\n",
      "131/131 [==============================] - 0s 2ms/step - loss: 0.1198 - acc: 0.9847 - val_loss: 0.5758 - val_acc: 0.7273\n",
      "Epoch 48/100\n",
      "131/131 [==============================] - 0s 2ms/step - loss: 0.1102 - acc: 0.9695 - val_loss: 0.6006 - val_acc: 0.6970\n",
      "Epoch 00048: early stopping\n"
     ]
    }
   ],
   "source": [
    "# 過学習（オーバーフィッティング）防止の為、前のエポックのときと比べ誤差が増えたら学習を打ち切る\n",
    "early_stopping = EarlyStopping(monitor='val_loss', patience=10, verbose=1)\n",
    "epochs = 100\n",
    "\n",
    "hist = model.fit(X_train, Y_train, epochs=epochs,\n",
    "          validation_data=(X_validation, Y_validation),\n",
    "          callbacks=[early_stopping])"
   ]
  },
  {
   "cell_type": "code",
   "execution_count": 12,
   "metadata": {},
   "outputs": [
    {
     "name": "stdout",
     "output_type": "stream",
     "text": [
      "19/19 [==============================] - 0s 670us/step\n",
      "[0.50952333211898804, 0.78947371244430542]\n"
     ]
    }
   ],
   "source": [
    "# 予測精度の評価\n",
    "loss_and_metrics = model.evaluate(X_test, Y_test)\n",
    "print(loss_and_metrics) # 1番目：誤差関数の値、2番目：予測精度"
   ]
  },
  {
   "cell_type": "code",
   "execution_count": 13,
   "metadata": {},
   "outputs": [
    {
     "data": {
      "image/png": "[encoded data removed]",
      "text/plain": [
       "<matplotlib.figure.Figure at 0x1a2e6ba5c0>"
      ]
     },
     "metadata": {},
     "output_type": "display_data"
    }
   ],
   "source": [
    "# 学習の進み具合を可視化\n",
    "\n",
    "val_acc = hist.history['val_acc']\n",
    "val_loss = hist.history['val_loss']\n",
    "\n",
    "plt.rc('font', family='serif')\n",
    "fig = plt.figure()\n",
    "plt.plot(range(len(val_acc)), val_acc, label='val_acc', color='red')\n",
    "plt.plot(range(len(val_loss)), val_loss, label='val_loss', color='black')\n",
    "\n",
    "plt.xlabel('epochs')\n",
    "plt.show()"
   ]
  },
  {
   "cell_type": "code",
   "execution_count": 14,
   "metadata": {},
   "outputs": [
    {
     "name": "stdout",
     "output_type": "stream",
     "text": [
      "[0 4 0 1 1 0 2 4 0 0]\n"
     ]
    }
   ],
   "source": [
    "# テスト用データを使用して予測する\n",
    "test_size = 10\n",
    "X_predict = np.argmax(model.predict(X_test[0:test_size]),axis=1)\n",
    "print(X_predict)"
   ]
  },
  {
   "cell_type": "code",
   "execution_count": 15,
   "metadata": {},
   "outputs": [
    {
     "name": "stdout",
     "output_type": "stream",
     "text": [
      "[0 4 0 1 1 0 2 4 0 1]\n"
     ]
    }
   ],
   "source": [
    "# テスト用データの正解　0：資産　1：負債　2：純資産　3：収益　4：費用\n",
    "print(np.argmax(Y_test[0:test_size],axis=1))"
   ]
  },
  {
   "cell_type": "code",
   "execution_count": 16,
   "metadata": {},
   "outputs": [
    {
     "data": {
      "text/plain": [
       "array([ True,  True,  True,  True,  True,  True,  True,  True,  True, False], dtype=bool)"
      ]
     },
     "execution_count": 16,
     "metadata": {},
     "output_type": "execute_result"
    }
   ],
   "source": [
    "# 予測が正しかったか判定する\n",
    "X_predict == np.argmax(Y_test[0:test_size],axis=1)"
   ]
  },
  {
   "cell_type": "code",
   "execution_count": null,
   "metadata": {},
   "outputs": [],
   "source": []
  },
  {
   "cell_type": "code",
   "execution_count": null,
   "metadata": {},
   "outputs": [],
   "source": []
  }
 ],
 "metadata": {
  "kernelspec": {
   "display_name": "Python [default]",
   "language": "python",
   "name": "python3"
  },
  "language_info": {
   "codemirror_mode": {
    "name": "ipython",
    "version": 3
   },
   "file_extension": ".py",
   "mimetype": "text/x-python",
   "name": "python",
   "nbconvert_exporter": "python",
   "pygments_lexer": "ipython3",
   "version": "3.5.4"
  }
 },
 "nbformat": 4,
 "nbformat_minor": 2
}
